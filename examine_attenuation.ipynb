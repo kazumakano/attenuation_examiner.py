{
 "cells": [
  {
   "cell_type": "code",
   "execution_count": null,
   "metadata": {},
   "outputs": [],
   "source": [
    "from datetime import datetime, timedelta\n",
    "import numpy as np\n",
    "from particle_filter.script.parameter import set_params\n",
    "from script.log import Log\n",
    "from script.map import Map"
   ]
  },
  {
   "cell_type": "code",
   "execution_count": null,
   "metadata": {},
   "outputs": [],
   "source": [
    "conf_file = \"config/default.yaml\"\n",
    "\n",
    "set_params(conf_file);"
   ]
  },
  {
   "cell_type": "code",
   "execution_count": null,
   "metadata": {},
   "outputs": [],
   "source": [
    "map = Map(np.empty(0, dtype=\"<U17\"))\n",
    "map._set_all_beacons_verbosely()"
   ]
  },
  {
   "cell_type": "markdown",
   "metadata": {},
   "source": [
    "examine RSSI for each scan point"
   ]
  },
  {
   "cell_type": "code",
   "execution_count": null,
   "metadata": {},
   "outputs": [],
   "source": [
    "log_file = \"particle_filter/log/observed/foo_ble.csv\"\n",
    "\n",
    "log = Log(log_file)"
   ]
  },
  {
   "cell_type": "code",
   "execution_count": null,
   "metadata": {},
   "outputs": [],
   "source": [
    "end = datetime(2000, 1, 1, 0, 0, 30)\n",
    "\n",
    "log.ts, log.mac, log.rssi = log.slice(end, timedelta(seconds=30))\n",
    "log.mac_list = np.unique(log.mac)"
   ]
  },
  {
   "cell_type": "code",
   "execution_count": null,
   "metadata": {},
   "outputs": [],
   "source": [
    "%matplotlib widget\n",
    "\n",
    "map.show_beacons_by_mac_list(log.mac_list)"
   ]
  },
  {
   "cell_type": "code",
   "execution_count": null,
   "metadata": {},
   "outputs": [],
   "source": [
    "%matplotlib inline\n",
    "\n",
    "log.init_vis()\n",
    "log.print_rssi_info_list()\n",
    "log.run_vis()"
   ]
  }
 ],
 "metadata": {
  "kernelspec": {
   "display_name": "Python 3.10.6 64-bit (windows store)",
   "language": "python",
   "name": "python3"
  },
  "language_info": {
   "codemirror_mode": {
    "name": "ipython",
    "version": 3
   },
   "file_extension": ".py",
   "mimetype": "text/x-python",
   "name": "python",
   "nbconvert_exporter": "python",
   "pygments_lexer": "ipython3",
   "version": "3.10.6"
  },
  "orig_nbformat": 4,
  "vscode": {
   "interpreter": {
    "hash": "0f1175d7776d392107ce711bd595161b267754ab1f37d3b02aaaf0b092c6b265"
   }
  }
 },
 "nbformat": 4,
 "nbformat_minor": 2
}
